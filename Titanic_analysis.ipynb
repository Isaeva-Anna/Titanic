{
 "cells": [
  {
   "cell_type": "code",
   "execution_count": 1,
   "id": "fe529b0d",
   "metadata": {
    "_cell_guid": "b1076dfc-b9ad-4769-8c92-a6c4dae69d19",
    "_uuid": "8f2839f25d086af736a60e9eeb907d3b93b6e0e5",
    "execution": {
     "iopub.execute_input": "2024-07-31T09:38:52.512271Z",
     "iopub.status.busy": "2024-07-31T09:38:52.511847Z",
     "iopub.status.idle": "2024-07-31T09:38:55.853271Z",
     "shell.execute_reply": "2024-07-31T09:38:55.851892Z"
    },
    "papermill": {
     "duration": 3.354711,
     "end_time": "2024-07-31T09:38:55.856909",
     "exception": false,
     "start_time": "2024-07-31T09:38:52.502198",
     "status": "completed"
    },
    "tags": []
   },
   "outputs": [
    {
     "name": "stdout",
     "output_type": "stream",
     "text": [
      "/kaggle/input/titanic/train.csv\n",
      "/kaggle/input/titanic/test.csv\n",
      "/kaggle/input/titanic/gender_submission.csv\n",
      "/kaggle/input/d/isaevaannaofficial/titanic/train.csv\n",
      "/kaggle/input/d/isaevaannaofficial/titanic/test.csv\n"
     ]
    }
   ],
   "source": [
    "from sklearn.model_selection import train_test_split\n",
    "from sklearn.ensemble import RandomForestClassifier\n",
    "from sklearn.metrics import accuracy_score\n",
    "from sklearn.model_selection import GridSearchCV, cross_val_score\n",
    "from sklearn.preprocessing import LabelEncoder\n",
    "from sklearn.tree import DecisionTreeClassifier\n",
    "import numpy as np # linear algebra\n",
    "import pandas as pd # data processing, CSV file I/O (e.g. pd.read_csv)\n",
    "from matplotlib import pyplot as plt\n",
    "import seaborn as sns\n",
    "import os\n",
    "for dirname, _, filenames in os.walk('/kaggle/input'):\n",
    "    for filename in filenames:\n",
    "        print(os.path.join(dirname, filename))\n",
    "\n"
   ]
  },
  {
   "cell_type": "code",
   "execution_count": 2,
   "id": "511537d4",
   "metadata": {
    "execution": {
     "iopub.execute_input": "2024-07-31T09:38:55.886970Z",
     "iopub.status.busy": "2024-07-31T09:38:55.885486Z",
     "iopub.status.idle": "2024-07-31T09:38:55.916217Z",
     "shell.execute_reply": "2024-07-31T09:38:55.915034Z"
    },
    "papermill": {
     "duration": 0.043016,
     "end_time": "2024-07-31T09:38:55.919488",
     "exception": false,
     "start_time": "2024-07-31T09:38:55.876472",
     "status": "completed"
    },
    "tags": []
   },
   "outputs": [],
   "source": [
    "data = pd.read_csv('/kaggle/input/d/isaevaannaofficial/titanic/train.csv')\n"
   ]
  },
  {
   "cell_type": "code",
   "execution_count": 3,
   "id": "a68a1014",
   "metadata": {
    "execution": {
     "iopub.execute_input": "2024-07-31T09:38:55.941457Z",
     "iopub.status.busy": "2024-07-31T09:38:55.940980Z",
     "iopub.status.idle": "2024-07-31T09:38:55.960780Z",
     "shell.execute_reply": "2024-07-31T09:38:55.959492Z"
    },
    "papermill": {
     "duration": 0.032428,
     "end_time": "2024-07-31T09:38:55.963292",
     "exception": false,
     "start_time": "2024-07-31T09:38:55.930864",
     "status": "completed"
    },
    "tags": []
   },
   "outputs": [
    {
     "data": {
      "text/plain": [
       "PassengerId      int64\n",
       "Survived         int64\n",
       "Pclass           int64\n",
       "Name            object\n",
       "Sex             object\n",
       "Age            float64\n",
       "SibSp            int64\n",
       "Parch            int64\n",
       "Ticket          object\n",
       "Fare           float64\n",
       "Cabin           object\n",
       "Embarked        object\n",
       "dtype: object"
      ]
     },
     "execution_count": 3,
     "metadata": {},
     "output_type": "execute_result"
    }
   ],
   "source": [
    "data.dtypes"
   ]
  },
  {
   "cell_type": "code",
   "execution_count": 4,
   "id": "91225751",
   "metadata": {
    "execution": {
     "iopub.execute_input": "2024-07-31T09:38:55.980924Z",
     "iopub.status.busy": "2024-07-31T09:38:55.980095Z",
     "iopub.status.idle": "2024-07-31T09:38:55.991254Z",
     "shell.execute_reply": "2024-07-31T09:38:55.989583Z"
    },
    "papermill": {
     "duration": 0.02407,
     "end_time": "2024-07-31T09:38:55.995186",
     "exception": false,
     "start_time": "2024-07-31T09:38:55.971116",
     "status": "completed"
    },
    "tags": []
   },
   "outputs": [
    {
     "name": "stdout",
     "output_type": "stream",
     "text": [
      "['Name', 'Sex', 'Ticket', 'Cabin', 'Embarked']\n"
     ]
    }
   ],
   "source": [
    "categorical_data = []\n",
    "for column_name in data.columns:\n",
    "    if not (pd.api.types.is_integer_dtype(data[column_name]) or pd.api.types.is_float_dtype(data[column_name])):\n",
    "        categorical_data.append(column_name)  # Добавляем имя столбца в списоk\n",
    "\n",
    "print(categorical_data)"
   ]
  },
  {
   "cell_type": "code",
   "execution_count": 5,
   "id": "8ea2b825",
   "metadata": {
    "execution": {
     "iopub.execute_input": "2024-07-31T09:38:56.013557Z",
     "iopub.status.busy": "2024-07-31T09:38:56.012452Z",
     "iopub.status.idle": "2024-07-31T09:38:56.018564Z",
     "shell.execute_reply": "2024-07-31T09:38:56.017193Z"
    },
    "papermill": {
     "duration": 0.018541,
     "end_time": "2024-07-31T09:38:56.021290",
     "exception": false,
     "start_time": "2024-07-31T09:38:56.002749",
     "status": "completed"
    },
    "tags": []
   },
   "outputs": [],
   "source": [
    "categorical_data.remove('Name')\n",
    "categorical_data.remove('Ticket')"
   ]
  },
  {
   "cell_type": "code",
   "execution_count": 6,
   "id": "a167bda2",
   "metadata": {
    "_kg_hide-output": true,
    "execution": {
     "iopub.execute_input": "2024-07-31T09:38:56.038786Z",
     "iopub.status.busy": "2024-07-31T09:38:56.038020Z",
     "iopub.status.idle": "2024-07-31T09:38:56.046261Z",
     "shell.execute_reply": "2024-07-31T09:38:56.045033Z"
    },
    "papermill": {
     "duration": 0.019729,
     "end_time": "2024-07-31T09:38:56.048698",
     "exception": false,
     "start_time": "2024-07-31T09:38:56.028969",
     "status": "completed"
    },
    "tags": []
   },
   "outputs": [
    {
     "data": {
      "text/plain": [
       "['Sex', 'Cabin', 'Embarked']"
      ]
     },
     "execution_count": 6,
     "metadata": {},
     "output_type": "execute_result"
    }
   ],
   "source": [
    "categorical_data"
   ]
  },
  {
   "cell_type": "code",
   "execution_count": 7,
   "id": "74bf87bd",
   "metadata": {
    "execution": {
     "iopub.execute_input": "2024-07-31T09:38:56.066359Z",
     "iopub.status.busy": "2024-07-31T09:38:56.065989Z",
     "iopub.status.idle": "2024-07-31T09:38:56.089164Z",
     "shell.execute_reply": "2024-07-31T09:38:56.087835Z"
    },
    "papermill": {
     "duration": 0.035164,
     "end_time": "2024-07-31T09:38:56.092180",
     "exception": false,
     "start_time": "2024-07-31T09:38:56.057016",
     "status": "completed"
    },
    "tags": []
   },
   "outputs": [
    {
     "data": {
      "text/html": [
       "<div>\n",
       "<style scoped>\n",
       "    .dataframe tbody tr th:only-of-type {\n",
       "        vertical-align: middle;\n",
       "    }\n",
       "\n",
       "    .dataframe tbody tr th {\n",
       "        vertical-align: top;\n",
       "    }\n",
       "\n",
       "    .dataframe thead th {\n",
       "        text-align: right;\n",
       "    }\n",
       "</style>\n",
       "<table border=\"1\" class=\"dataframe\">\n",
       "  <thead>\n",
       "    <tr style=\"text-align: right;\">\n",
       "      <th></th>\n",
       "      <th>PassengerId</th>\n",
       "      <th>Survived</th>\n",
       "      <th>Pclass</th>\n",
       "      <th>Name</th>\n",
       "      <th>Sex</th>\n",
       "      <th>Age</th>\n",
       "      <th>SibSp</th>\n",
       "      <th>Parch</th>\n",
       "      <th>Ticket</th>\n",
       "      <th>Fare</th>\n",
       "      <th>Cabin</th>\n",
       "      <th>Embarked</th>\n",
       "    </tr>\n",
       "  </thead>\n",
       "  <tbody>\n",
       "    <tr>\n",
       "      <th>0</th>\n",
       "      <td>1</td>\n",
       "      <td>0</td>\n",
       "      <td>3</td>\n",
       "      <td>Braund, Mr. Owen Harris</td>\n",
       "      <td>male</td>\n",
       "      <td>22.0</td>\n",
       "      <td>1</td>\n",
       "      <td>0</td>\n",
       "      <td>A/5 21171</td>\n",
       "      <td>7.2500</td>\n",
       "      <td>NaN</td>\n",
       "      <td>S</td>\n",
       "    </tr>\n",
       "    <tr>\n",
       "      <th>1</th>\n",
       "      <td>2</td>\n",
       "      <td>1</td>\n",
       "      <td>1</td>\n",
       "      <td>Cumings, Mrs. John Bradley (Florence Briggs Th...</td>\n",
       "      <td>female</td>\n",
       "      <td>38.0</td>\n",
       "      <td>1</td>\n",
       "      <td>0</td>\n",
       "      <td>PC 17599</td>\n",
       "      <td>71.2833</td>\n",
       "      <td>C85</td>\n",
       "      <td>C</td>\n",
       "    </tr>\n",
       "    <tr>\n",
       "      <th>2</th>\n",
       "      <td>3</td>\n",
       "      <td>1</td>\n",
       "      <td>3</td>\n",
       "      <td>Heikkinen, Miss. Laina</td>\n",
       "      <td>female</td>\n",
       "      <td>26.0</td>\n",
       "      <td>0</td>\n",
       "      <td>0</td>\n",
       "      <td>STON/O2. 3101282</td>\n",
       "      <td>7.9250</td>\n",
       "      <td>NaN</td>\n",
       "      <td>S</td>\n",
       "    </tr>\n",
       "    <tr>\n",
       "      <th>3</th>\n",
       "      <td>4</td>\n",
       "      <td>1</td>\n",
       "      <td>1</td>\n",
       "      <td>Futrelle, Mrs. Jacques Heath (Lily May Peel)</td>\n",
       "      <td>female</td>\n",
       "      <td>35.0</td>\n",
       "      <td>1</td>\n",
       "      <td>0</td>\n",
       "      <td>113803</td>\n",
       "      <td>53.1000</td>\n",
       "      <td>C123</td>\n",
       "      <td>S</td>\n",
       "    </tr>\n",
       "    <tr>\n",
       "      <th>4</th>\n",
       "      <td>5</td>\n",
       "      <td>0</td>\n",
       "      <td>3</td>\n",
       "      <td>Allen, Mr. William Henry</td>\n",
       "      <td>male</td>\n",
       "      <td>35.0</td>\n",
       "      <td>0</td>\n",
       "      <td>0</td>\n",
       "      <td>373450</td>\n",
       "      <td>8.0500</td>\n",
       "      <td>NaN</td>\n",
       "      <td>S</td>\n",
       "    </tr>\n",
       "  </tbody>\n",
       "</table>\n",
       "</div>"
      ],
      "text/plain": [
       "   PassengerId  Survived  Pclass  \\\n",
       "0            1         0       3   \n",
       "1            2         1       1   \n",
       "2            3         1       3   \n",
       "3            4         1       1   \n",
       "4            5         0       3   \n",
       "\n",
       "                                                Name     Sex   Age  SibSp  \\\n",
       "0                            Braund, Mr. Owen Harris    male  22.0      1   \n",
       "1  Cumings, Mrs. John Bradley (Florence Briggs Th...  female  38.0      1   \n",
       "2                             Heikkinen, Miss. Laina  female  26.0      0   \n",
       "3       Futrelle, Mrs. Jacques Heath (Lily May Peel)  female  35.0      1   \n",
       "4                           Allen, Mr. William Henry    male  35.0      0   \n",
       "\n",
       "   Parch            Ticket     Fare Cabin Embarked  \n",
       "0      0         A/5 21171   7.2500   NaN        S  \n",
       "1      0          PC 17599  71.2833   C85        C  \n",
       "2      0  STON/O2. 3101282   7.9250   NaN        S  \n",
       "3      0            113803  53.1000  C123        S  \n",
       "4      0            373450   8.0500   NaN        S  "
      ]
     },
     "execution_count": 7,
     "metadata": {},
     "output_type": "execute_result"
    }
   ],
   "source": [
    "data.head()"
   ]
  },
  {
   "cell_type": "code",
   "execution_count": 8,
   "id": "e51af869",
   "metadata": {
    "execution": {
     "iopub.execute_input": "2024-07-31T09:38:56.116436Z",
     "iopub.status.busy": "2024-07-31T09:38:56.115920Z",
     "iopub.status.idle": "2024-07-31T09:38:57.074173Z",
     "shell.execute_reply": "2024-07-31T09:38:57.072782Z"
    },
    "papermill": {
     "duration": 0.971304,
     "end_time": "2024-07-31T09:38:57.077054",
     "exception": false,
     "start_time": "2024-07-31T09:38:56.105750",
     "status": "completed"
    },
    "tags": []
   },
   "outputs": [
    {
     "data": {
      "text/plain": [
       "<Axes: xlabel='SibSp', ylabel='count'>"
      ]
     },
     "execution_count": 8,
     "metadata": {},
     "output_type": "execute_result"
    },
    {
     "data": {
      "image/png": "[encoded data removed]",
      "text/plain": [
       "<Figure size 1000x400 with 4 Axes>"
      ]
     },
     "metadata": {},
     "output_type": "display_data"
    }
   ],
   "source": [
    "_, axes = plt.subplots(2, 2, sharey=True, figsize=(10, 4))\n",
    "\n",
    "\n",
    "sns.countplot(x=\"Sex\", hue=\"Survived\", data=data, ax=axes[0, 0])\n",
    "sns.countplot(x=\"Parch\", hue=\"Survived\", data=data, ax=axes[1, 0]) # количество детей \n",
    "sns.countplot(x=\"Embarked\", hue=\"Survived\", data=data, ax=axes[0, 1]) \n",
    "sns.countplot(x=\"SibSp\", hue=\"Survived\", data=data, ax=axes[1, 1]) # количество братьев и сестер  "
   ]
  },
  {
   "cell_type": "code",
   "execution_count": 9,
   "id": "16dec755",
   "metadata": {
    "execution": {
     "iopub.execute_input": "2024-07-31T09:38:57.099252Z",
     "iopub.status.busy": "2024-07-31T09:38:57.098750Z",
     "iopub.status.idle": "2024-07-31T09:38:57.105313Z",
     "shell.execute_reply": "2024-07-31T09:38:57.104131Z"
    },
    "papermill": {
     "duration": 0.019177,
     "end_time": "2024-07-31T09:38:57.107815",
     "exception": false,
     "start_time": "2024-07-31T09:38:57.088638",
     "status": "completed"
    },
    "tags": []
   },
   "outputs": [],
   "source": [
    "'''Про то, как влияло количество детей, братьев и сестре на выживаемость пока вообще непонятно\n",
    "\n",
    "порт посадки на борт (Embaekrd) вряд ли влиял на выживаемость, так что вообще удалю его вместе с именем, билетом'''\n",
    "categorical_data.remove('Embarked')\n"
   ]
  },
  {
   "cell_type": "code",
   "execution_count": 10,
   "id": "fe9572ad",
   "metadata": {
    "execution": {
     "iopub.execute_input": "2024-07-31T09:38:57.126977Z",
     "iopub.status.busy": "2024-07-31T09:38:57.126564Z",
     "iopub.status.idle": "2024-07-31T09:38:57.150057Z",
     "shell.execute_reply": "2024-07-31T09:38:57.148850Z"
    },
    "papermill": {
     "duration": 0.03611,
     "end_time": "2024-07-31T09:38:57.152585",
     "exception": false,
     "start_time": "2024-07-31T09:38:57.116475",
     "status": "completed"
    },
    "tags": []
   },
   "outputs": [
    {
     "data": {
      "text/html": [
       "<div>\n",
       "<style scoped>\n",
       "    .dataframe tbody tr th:only-of-type {\n",
       "        vertical-align: middle;\n",
       "    }\n",
       "\n",
       "    .dataframe tbody tr th {\n",
       "        vertical-align: top;\n",
       "    }\n",
       "\n",
       "    .dataframe thead th {\n",
       "        text-align: right;\n",
       "    }\n",
       "</style>\n",
       "<table border=\"1\" class=\"dataframe\">\n",
       "  <thead>\n",
       "    <tr style=\"text-align: right;\">\n",
       "      <th></th>\n",
       "      <th>PassengerId</th>\n",
       "      <th>Survived</th>\n",
       "      <th>Pclass</th>\n",
       "      <th>Name</th>\n",
       "      <th>Sex</th>\n",
       "      <th>Age</th>\n",
       "      <th>SibSp</th>\n",
       "      <th>Parch</th>\n",
       "      <th>Ticket</th>\n",
       "      <th>Fare</th>\n",
       "      <th>Cabin</th>\n",
       "      <th>Embarked</th>\n",
       "    </tr>\n",
       "  </thead>\n",
       "  <tbody>\n",
       "    <tr>\n",
       "      <th>0</th>\n",
       "      <td>1</td>\n",
       "      <td>0</td>\n",
       "      <td>3</td>\n",
       "      <td>Braund, Mr. Owen Harris</td>\n",
       "      <td>male</td>\n",
       "      <td>22.0</td>\n",
       "      <td>1</td>\n",
       "      <td>0</td>\n",
       "      <td>A/5 21171</td>\n",
       "      <td>7.2500</td>\n",
       "      <td>NaN</td>\n",
       "      <td>S</td>\n",
       "    </tr>\n",
       "    <tr>\n",
       "      <th>1</th>\n",
       "      <td>2</td>\n",
       "      <td>1</td>\n",
       "      <td>1</td>\n",
       "      <td>Cumings, Mrs. John Bradley (Florence Briggs Th...</td>\n",
       "      <td>female</td>\n",
       "      <td>38.0</td>\n",
       "      <td>1</td>\n",
       "      <td>0</td>\n",
       "      <td>PC 17599</td>\n",
       "      <td>71.2833</td>\n",
       "      <td>C85</td>\n",
       "      <td>C</td>\n",
       "    </tr>\n",
       "    <tr>\n",
       "      <th>2</th>\n",
       "      <td>3</td>\n",
       "      <td>1</td>\n",
       "      <td>3</td>\n",
       "      <td>Heikkinen, Miss. Laina</td>\n",
       "      <td>female</td>\n",
       "      <td>26.0</td>\n",
       "      <td>0</td>\n",
       "      <td>0</td>\n",
       "      <td>STON/O2. 3101282</td>\n",
       "      <td>7.9250</td>\n",
       "      <td>NaN</td>\n",
       "      <td>S</td>\n",
       "    </tr>\n",
       "    <tr>\n",
       "      <th>3</th>\n",
       "      <td>4</td>\n",
       "      <td>1</td>\n",
       "      <td>1</td>\n",
       "      <td>Futrelle, Mrs. Jacques Heath (Lily May Peel)</td>\n",
       "      <td>female</td>\n",
       "      <td>35.0</td>\n",
       "      <td>1</td>\n",
       "      <td>0</td>\n",
       "      <td>113803</td>\n",
       "      <td>53.1000</td>\n",
       "      <td>C123</td>\n",
       "      <td>S</td>\n",
       "    </tr>\n",
       "    <tr>\n",
       "      <th>4</th>\n",
       "      <td>5</td>\n",
       "      <td>0</td>\n",
       "      <td>3</td>\n",
       "      <td>Allen, Mr. William Henry</td>\n",
       "      <td>male</td>\n",
       "      <td>35.0</td>\n",
       "      <td>0</td>\n",
       "      <td>0</td>\n",
       "      <td>373450</td>\n",
       "      <td>8.0500</td>\n",
       "      <td>NaN</td>\n",
       "      <td>S</td>\n",
       "    </tr>\n",
       "    <tr>\n",
       "      <th>5</th>\n",
       "      <td>6</td>\n",
       "      <td>0</td>\n",
       "      <td>3</td>\n",
       "      <td>Moran, Mr. James</td>\n",
       "      <td>male</td>\n",
       "      <td>NaN</td>\n",
       "      <td>0</td>\n",
       "      <td>0</td>\n",
       "      <td>330877</td>\n",
       "      <td>8.4583</td>\n",
       "      <td>NaN</td>\n",
       "      <td>Q</td>\n",
       "    </tr>\n",
       "    <tr>\n",
       "      <th>6</th>\n",
       "      <td>7</td>\n",
       "      <td>0</td>\n",
       "      <td>1</td>\n",
       "      <td>McCarthy, Mr. Timothy J</td>\n",
       "      <td>male</td>\n",
       "      <td>54.0</td>\n",
       "      <td>0</td>\n",
       "      <td>0</td>\n",
       "      <td>17463</td>\n",
       "      <td>51.8625</td>\n",
       "      <td>E46</td>\n",
       "      <td>S</td>\n",
       "    </tr>\n",
       "    <tr>\n",
       "      <th>7</th>\n",
       "      <td>8</td>\n",
       "      <td>0</td>\n",
       "      <td>3</td>\n",
       "      <td>Palsson, Master. Gosta Leonard</td>\n",
       "      <td>male</td>\n",
       "      <td>2.0</td>\n",
       "      <td>3</td>\n",
       "      <td>1</td>\n",
       "      <td>349909</td>\n",
       "      <td>21.0750</td>\n",
       "      <td>NaN</td>\n",
       "      <td>S</td>\n",
       "    </tr>\n",
       "    <tr>\n",
       "      <th>8</th>\n",
       "      <td>9</td>\n",
       "      <td>1</td>\n",
       "      <td>3</td>\n",
       "      <td>Johnson, Mrs. Oscar W (Elisabeth Vilhelmina Berg)</td>\n",
       "      <td>female</td>\n",
       "      <td>27.0</td>\n",
       "      <td>0</td>\n",
       "      <td>2</td>\n",
       "      <td>347742</td>\n",
       "      <td>11.1333</td>\n",
       "      <td>NaN</td>\n",
       "      <td>S</td>\n",
       "    </tr>\n",
       "    <tr>\n",
       "      <th>9</th>\n",
       "      <td>10</td>\n",
       "      <td>1</td>\n",
       "      <td>2</td>\n",
       "      <td>Nasser, Mrs. Nicholas (Adele Achem)</td>\n",
       "      <td>female</td>\n",
       "      <td>14.0</td>\n",
       "      <td>1</td>\n",
       "      <td>0</td>\n",
       "      <td>237736</td>\n",
       "      <td>30.0708</td>\n",
       "      <td>NaN</td>\n",
       "      <td>C</td>\n",
       "    </tr>\n",
       "    <tr>\n",
       "      <th>10</th>\n",
       "      <td>11</td>\n",
       "      <td>1</td>\n",
       "      <td>3</td>\n",
       "      <td>Sandstrom, Miss. Marguerite Rut</td>\n",
       "      <td>female</td>\n",
       "      <td>4.0</td>\n",
       "      <td>1</td>\n",
       "      <td>1</td>\n",
       "      <td>PP 9549</td>\n",
       "      <td>16.7000</td>\n",
       "      <td>G6</td>\n",
       "      <td>S</td>\n",
       "    </tr>\n",
       "    <tr>\n",
       "      <th>11</th>\n",
       "      <td>12</td>\n",
       "      <td>1</td>\n",
       "      <td>1</td>\n",
       "      <td>Bonnell, Miss. Elizabeth</td>\n",
       "      <td>female</td>\n",
       "      <td>58.0</td>\n",
       "      <td>0</td>\n",
       "      <td>0</td>\n",
       "      <td>113783</td>\n",
       "      <td>26.5500</td>\n",
       "      <td>C103</td>\n",
       "      <td>S</td>\n",
       "    </tr>\n",
       "    <tr>\n",
       "      <th>12</th>\n",
       "      <td>13</td>\n",
       "      <td>0</td>\n",
       "      <td>3</td>\n",
       "      <td>Saundercock, Mr. William Henry</td>\n",
       "      <td>male</td>\n",
       "      <td>20.0</td>\n",
       "      <td>0</td>\n",
       "      <td>0</td>\n",
       "      <td>A/5. 2151</td>\n",
       "      <td>8.0500</td>\n",
       "      <td>NaN</td>\n",
       "      <td>S</td>\n",
       "    </tr>\n",
       "    <tr>\n",
       "      <th>13</th>\n",
       "      <td>14</td>\n",
       "      <td>0</td>\n",
       "      <td>3</td>\n",
       "      <td>Andersson, Mr. Anders Johan</td>\n",
       "      <td>male</td>\n",
       "      <td>39.0</td>\n",
       "      <td>1</td>\n",
       "      <td>5</td>\n",
       "      <td>347082</td>\n",
       "      <td>31.2750</td>\n",
       "      <td>NaN</td>\n",
       "      <td>S</td>\n",
       "    </tr>\n",
       "    <tr>\n",
       "      <th>14</th>\n",
       "      <td>15</td>\n",
       "      <td>0</td>\n",
       "      <td>3</td>\n",
       "      <td>Vestrom, Miss. Hulda Amanda Adolfina</td>\n",
       "      <td>female</td>\n",
       "      <td>14.0</td>\n",
       "      <td>0</td>\n",
       "      <td>0</td>\n",
       "      <td>350406</td>\n",
       "      <td>7.8542</td>\n",
       "      <td>NaN</td>\n",
       "      <td>S</td>\n",
       "    </tr>\n",
       "    <tr>\n",
       "      <th>15</th>\n",
       "      <td>16</td>\n",
       "      <td>1</td>\n",
       "      <td>2</td>\n",
       "      <td>Hewlett, Mrs. (Mary D Kingcome)</td>\n",
       "      <td>female</td>\n",
       "      <td>55.0</td>\n",
       "      <td>0</td>\n",
       "      <td>0</td>\n",
       "      <td>248706</td>\n",
       "      <td>16.0000</td>\n",
       "      <td>NaN</td>\n",
       "      <td>S</td>\n",
       "    </tr>\n",
       "    <tr>\n",
       "      <th>16</th>\n",
       "      <td>17</td>\n",
       "      <td>0</td>\n",
       "      <td>3</td>\n",
       "      <td>Rice, Master. Eugene</td>\n",
       "      <td>male</td>\n",
       "      <td>2.0</td>\n",
       "      <td>4</td>\n",
       "      <td>1</td>\n",
       "      <td>382652</td>\n",
       "      <td>29.1250</td>\n",
       "      <td>NaN</td>\n",
       "      <td>Q</td>\n",
       "    </tr>\n",
       "    <tr>\n",
       "      <th>17</th>\n",
       "      <td>18</td>\n",
       "      <td>1</td>\n",
       "      <td>2</td>\n",
       "      <td>Williams, Mr. Charles Eugene</td>\n",
       "      <td>male</td>\n",
       "      <td>NaN</td>\n",
       "      <td>0</td>\n",
       "      <td>0</td>\n",
       "      <td>244373</td>\n",
       "      <td>13.0000</td>\n",
       "      <td>NaN</td>\n",
       "      <td>S</td>\n",
       "    </tr>\n",
       "    <tr>\n",
       "      <th>18</th>\n",
       "      <td>19</td>\n",
       "      <td>0</td>\n",
       "      <td>3</td>\n",
       "      <td>Vander Planke, Mrs. Julius (Emelia Maria Vande...</td>\n",
       "      <td>female</td>\n",
       "      <td>31.0</td>\n",
       "      <td>1</td>\n",
       "      <td>0</td>\n",
       "      <td>345763</td>\n",
       "      <td>18.0000</td>\n",
       "      <td>NaN</td>\n",
       "      <td>S</td>\n",
       "    </tr>\n",
       "    <tr>\n",
       "      <th>19</th>\n",
       "      <td>20</td>\n",
       "      <td>1</td>\n",
       "      <td>3</td>\n",
       "      <td>Masselmani, Mrs. Fatima</td>\n",
       "      <td>female</td>\n",
       "      <td>NaN</td>\n",
       "      <td>0</td>\n",
       "      <td>0</td>\n",
       "      <td>2649</td>\n",
       "      <td>7.2250</td>\n",
       "      <td>NaN</td>\n",
       "      <td>C</td>\n",
       "    </tr>\n",
       "  </tbody>\n",
       "</table>\n",
       "</div>"
      ],
      "text/plain": [
       "    PassengerId  Survived  Pclass  \\\n",
       "0             1         0       3   \n",
       "1             2         1       1   \n",
       "2             3         1       3   \n",
       "3             4         1       1   \n",
       "4             5         0       3   \n",
       "5             6         0       3   \n",
       "6             7         0       1   \n",
       "7             8         0       3   \n",
       "8             9         1       3   \n",
       "9            10         1       2   \n",
       "10           11         1       3   \n",
       "11           12         1       1   \n",
       "12           13         0       3   \n",
       "13           14         0       3   \n",
       "14           15         0       3   \n",
       "15           16         1       2   \n",
       "16           17         0       3   \n",
       "17           18         1       2   \n",
       "18           19         0       3   \n",
       "19           20         1       3   \n",
       "\n",
       "                                                 Name     Sex   Age  SibSp  \\\n",
       "0                             Braund, Mr. Owen Harris    male  22.0      1   \n",
       "1   Cumings, Mrs. John Bradley (Florence Briggs Th...  female  38.0      1   \n",
       "2                              Heikkinen, Miss. Laina  female  26.0      0   \n",
       "3        Futrelle, Mrs. Jacques Heath (Lily May Peel)  female  35.0      1   \n",
       "4                            Allen, Mr. William Henry    male  35.0      0   \n",
       "5                                    Moran, Mr. James    male   NaN      0   \n",
       "6                             McCarthy, Mr. Timothy J    male  54.0      0   \n",
       "7                      Palsson, Master. Gosta Leonard    male   2.0      3   \n",
       "8   Johnson, Mrs. Oscar W (Elisabeth Vilhelmina Berg)  female  27.0      0   \n",
       "9                 Nasser, Mrs. Nicholas (Adele Achem)  female  14.0      1   \n",
       "10                    Sandstrom, Miss. Marguerite Rut  female   4.0      1   \n",
       "11                           Bonnell, Miss. Elizabeth  female  58.0      0   \n",
       "12                     Saundercock, Mr. William Henry    male  20.0      0   \n",
       "13                        Andersson, Mr. Anders Johan    male  39.0      1   \n",
       "14               Vestrom, Miss. Hulda Amanda Adolfina  female  14.0      0   \n",
       "15                   Hewlett, Mrs. (Mary D Kingcome)   female  55.0      0   \n",
       "16                               Rice, Master. Eugene    male   2.0      4   \n",
       "17                       Williams, Mr. Charles Eugene    male   NaN      0   \n",
       "18  Vander Planke, Mrs. Julius (Emelia Maria Vande...  female  31.0      1   \n",
       "19                            Masselmani, Mrs. Fatima  female   NaN      0   \n",
       "\n",
       "    Parch            Ticket     Fare Cabin Embarked  \n",
       "0       0         A/5 21171   7.2500   NaN        S  \n",
       "1       0          PC 17599  71.2833   C85        C  \n",
       "2       0  STON/O2. 3101282   7.9250   NaN        S  \n",
       "3       0            113803  53.1000  C123        S  \n",
       "4       0            373450   8.0500   NaN        S  \n",
       "5       0            330877   8.4583   NaN        Q  \n",
       "6       0             17463  51.8625   E46        S  \n",
       "7       1            349909  21.0750   NaN        S  \n",
       "8       2            347742  11.1333   NaN        S  \n",
       "9       0            237736  30.0708   NaN        C  \n",
       "10      1           PP 9549  16.7000    G6        S  \n",
       "11      0            113783  26.5500  C103        S  \n",
       "12      0         A/5. 2151   8.0500   NaN        S  \n",
       "13      5            347082  31.2750   NaN        S  \n",
       "14      0            350406   7.8542   NaN        S  \n",
       "15      0            248706  16.0000   NaN        S  \n",
       "16      1            382652  29.1250   NaN        Q  \n",
       "17      0            244373  13.0000   NaN        S  \n",
       "18      0            345763  18.0000   NaN        S  \n",
       "19      0              2649   7.2250   NaN        C  "
      ]
     },
     "execution_count": 10,
     "metadata": {},
     "output_type": "execute_result"
    }
   ],
   "source": [
    "data.head(20)"
   ]
  },
  {
   "cell_type": "code",
   "execution_count": 11,
   "id": "72b5a912",
   "metadata": {
    "execution": {
     "iopub.execute_input": "2024-07-31T09:38:57.173859Z",
     "iopub.status.busy": "2024-07-31T09:38:57.172445Z",
     "iopub.status.idle": "2024-07-31T09:38:57.181424Z",
     "shell.execute_reply": "2024-07-31T09:38:57.180129Z"
    },
    "papermill": {
     "duration": 0.021744,
     "end_time": "2024-07-31T09:38:57.183906",
     "exception": false,
     "start_time": "2024-07-31T09:38:57.162162",
     "status": "completed"
    },
    "tags": []
   },
   "outputs": [
    {
     "name": "stdout",
     "output_type": "stream",
     "text": [
      "Количество значений NaN в столбце 'Cabin': 687\n"
     ]
    }
   ],
   "source": [
    "nan_count = data['Cabin'].isna().sum()\n",
    "\n",
    "print(f\"Количество значений NaN в столбце 'Cabin': {nan_count}\")\n"
   ]
  },
  {
   "cell_type": "code",
   "execution_count": 12,
   "id": "e75e10b2",
   "metadata": {
    "execution": {
     "iopub.execute_input": "2024-07-31T09:38:57.207097Z",
     "iopub.status.busy": "2024-07-31T09:38:57.206686Z",
     "iopub.status.idle": "2024-07-31T09:38:57.211767Z",
     "shell.execute_reply": "2024-07-31T09:38:57.210619Z"
    },
    "papermill": {
     "duration": 0.020241,
     "end_time": "2024-07-31T09:38:57.213961",
     "exception": false,
     "start_time": "2024-07-31T09:38:57.193720",
     "status": "completed"
    },
    "tags": []
   },
   "outputs": [],
   "source": [
    "'''слишком много пропусков в столюике с кабинами, так что думаю, разумно его вообще убрать '''\n",
    "categorical_data.remove('Cabin')"
   ]
  },
  {
   "cell_type": "code",
   "execution_count": 13,
   "id": "90416639",
   "metadata": {
    "execution": {
     "iopub.execute_input": "2024-07-31T09:38:57.234719Z",
     "iopub.status.busy": "2024-07-31T09:38:57.234270Z",
     "iopub.status.idle": "2024-07-31T09:38:57.241228Z",
     "shell.execute_reply": "2024-07-31T09:38:57.239962Z"
    },
    "papermill": {
     "duration": 0.020084,
     "end_time": "2024-07-31T09:38:57.243771",
     "exception": false,
     "start_time": "2024-07-31T09:38:57.223687",
     "status": "completed"
    },
    "tags": []
   },
   "outputs": [
    {
     "data": {
      "text/plain": [
       "['Sex']"
      ]
     },
     "execution_count": 13,
     "metadata": {},
     "output_type": "execute_result"
    }
   ],
   "source": [
    "categorical_data"
   ]
  },
  {
   "cell_type": "code",
   "execution_count": 14,
   "id": "2a4d0ea7",
   "metadata": {
    "execution": {
     "iopub.execute_input": "2024-07-31T09:38:57.265006Z",
     "iopub.status.busy": "2024-07-31T09:38:57.264586Z",
     "iopub.status.idle": "2024-07-31T09:38:58.211081Z",
     "shell.execute_reply": "2024-07-31T09:38:58.209698Z"
    },
    "papermill": {
     "duration": 0.96019,
     "end_time": "2024-07-31T09:38:58.213733",
     "exception": false,
     "start_time": "2024-07-31T09:38:57.253543",
     "status": "completed"
    },
    "tags": []
   },
   "outputs": [
    {
     "data": {
      "text/plain": [
       "<seaborn.axisgrid.FacetGrid at 0x7d16811729b0>"
      ]
     },
     "execution_count": 14,
     "metadata": {},
     "output_type": "execute_result"
    },
    {
     "data": {
      "image/png": "[encoded data removed]",
      "text/plain": [
       "<Figure size 1500x500 with 3 Axes>"
      ]
     },
     "metadata": {},
     "output_type": "display_data"
    }
   ],
   "source": [
    "sns.catplot(data = data,y='Survived',x='Sex',col='Pclass',\n",
    "            kind='bar', saturation=0.5)"
   ]
  },
  {
   "cell_type": "code",
   "execution_count": 15,
   "id": "c788462a",
   "metadata": {
    "execution": {
     "iopub.execute_input": "2024-07-31T09:38:58.236354Z",
     "iopub.status.busy": "2024-07-31T09:38:58.235964Z",
     "iopub.status.idle": "2024-07-31T09:38:58.244685Z",
     "shell.execute_reply": "2024-07-31T09:38:58.243093Z"
    },
    "papermill": {
     "duration": 0.02359,
     "end_time": "2024-07-31T09:38:58.247297",
     "exception": false,
     "start_time": "2024-07-31T09:38:58.223707",
     "status": "completed"
    },
    "tags": []
   },
   "outputs": [
    {
     "data": {
      "text/plain": [
       "'минимальный шанс выжить у мужчин из третьего класса'"
      ]
     },
     "execution_count": 15,
     "metadata": {},
     "output_type": "execute_result"
    }
   ],
   "source": [
    "'''минимальный шанс выжить у мужчин из третьего класса'''"
   ]
  },
  {
   "cell_type": "code",
   "execution_count": 16,
   "id": "7b65984a",
   "metadata": {
    "execution": {
     "iopub.execute_input": "2024-07-31T09:38:58.268956Z",
     "iopub.status.busy": "2024-07-31T09:38:58.268540Z",
     "iopub.status.idle": "2024-07-31T09:38:58.288243Z",
     "shell.execute_reply": "2024-07-31T09:38:58.286867Z"
    },
    "papermill": {
     "duration": 0.033333,
     "end_time": "2024-07-31T09:38:58.290635",
     "exception": false,
     "start_time": "2024-07-31T09:38:58.257302",
     "status": "completed"
    },
    "tags": []
   },
   "outputs": [
    {
     "name": "stdout",
     "output_type": "stream",
     "text": [
      "['female' 'male']\n"
     ]
    },
    {
     "data": {
      "text/html": [
       "<div>\n",
       "<style scoped>\n",
       "    .dataframe tbody tr th:only-of-type {\n",
       "        vertical-align: middle;\n",
       "    }\n",
       "\n",
       "    .dataframe tbody tr th {\n",
       "        vertical-align: top;\n",
       "    }\n",
       "\n",
       "    .dataframe thead th {\n",
       "        text-align: right;\n",
       "    }\n",
       "</style>\n",
       "<table border=\"1\" class=\"dataframe\">\n",
       "  <thead>\n",
       "    <tr style=\"text-align: right;\">\n",
       "      <th></th>\n",
       "      <th>PassengerId</th>\n",
       "      <th>Survived</th>\n",
       "      <th>Pclass</th>\n",
       "      <th>Name</th>\n",
       "      <th>Sex</th>\n",
       "      <th>Age</th>\n",
       "      <th>SibSp</th>\n",
       "      <th>Parch</th>\n",
       "      <th>Ticket</th>\n",
       "      <th>Fare</th>\n",
       "      <th>Cabin</th>\n",
       "      <th>Embarked</th>\n",
       "    </tr>\n",
       "  </thead>\n",
       "  <tbody>\n",
       "    <tr>\n",
       "      <th>0</th>\n",
       "      <td>1</td>\n",
       "      <td>0</td>\n",
       "      <td>3</td>\n",
       "      <td>Braund, Mr. Owen Harris</td>\n",
       "      <td>1</td>\n",
       "      <td>22.0</td>\n",
       "      <td>1</td>\n",
       "      <td>0</td>\n",
       "      <td>A/5 21171</td>\n",
       "      <td>7.2500</td>\n",
       "      <td>NaN</td>\n",
       "      <td>S</td>\n",
       "    </tr>\n",
       "    <tr>\n",
       "      <th>1</th>\n",
       "      <td>2</td>\n",
       "      <td>1</td>\n",
       "      <td>1</td>\n",
       "      <td>Cumings, Mrs. John Bradley (Florence Briggs Th...</td>\n",
       "      <td>0</td>\n",
       "      <td>38.0</td>\n",
       "      <td>1</td>\n",
       "      <td>0</td>\n",
       "      <td>PC 17599</td>\n",
       "      <td>71.2833</td>\n",
       "      <td>C85</td>\n",
       "      <td>C</td>\n",
       "    </tr>\n",
       "    <tr>\n",
       "      <th>2</th>\n",
       "      <td>3</td>\n",
       "      <td>1</td>\n",
       "      <td>3</td>\n",
       "      <td>Heikkinen, Miss. Laina</td>\n",
       "      <td>0</td>\n",
       "      <td>26.0</td>\n",
       "      <td>0</td>\n",
       "      <td>0</td>\n",
       "      <td>STON/O2. 3101282</td>\n",
       "      <td>7.9250</td>\n",
       "      <td>NaN</td>\n",
       "      <td>S</td>\n",
       "    </tr>\n",
       "    <tr>\n",
       "      <th>3</th>\n",
       "      <td>4</td>\n",
       "      <td>1</td>\n",
       "      <td>1</td>\n",
       "      <td>Futrelle, Mrs. Jacques Heath (Lily May Peel)</td>\n",
       "      <td>0</td>\n",
       "      <td>35.0</td>\n",
       "      <td>1</td>\n",
       "      <td>0</td>\n",
       "      <td>113803</td>\n",
       "      <td>53.1000</td>\n",
       "      <td>C123</td>\n",
       "      <td>S</td>\n",
       "    </tr>\n",
       "    <tr>\n",
       "      <th>4</th>\n",
       "      <td>5</td>\n",
       "      <td>0</td>\n",
       "      <td>3</td>\n",
       "      <td>Allen, Mr. William Henry</td>\n",
       "      <td>1</td>\n",
       "      <td>35.0</td>\n",
       "      <td>0</td>\n",
       "      <td>0</td>\n",
       "      <td>373450</td>\n",
       "      <td>8.0500</td>\n",
       "      <td>NaN</td>\n",
       "      <td>S</td>\n",
       "    </tr>\n",
       "  </tbody>\n",
       "</table>\n",
       "</div>"
      ],
      "text/plain": [
       "   PassengerId  Survived  Pclass  \\\n",
       "0            1         0       3   \n",
       "1            2         1       1   \n",
       "2            3         1       3   \n",
       "3            4         1       1   \n",
       "4            5         0       3   \n",
       "\n",
       "                                                Name  Sex   Age  SibSp  Parch  \\\n",
       "0                            Braund, Mr. Owen Harris    1  22.0      1      0   \n",
       "1  Cumings, Mrs. John Bradley (Florence Briggs Th...    0  38.0      1      0   \n",
       "2                             Heikkinen, Miss. Laina    0  26.0      0      0   \n",
       "3       Futrelle, Mrs. Jacques Heath (Lily May Peel)    0  35.0      1      0   \n",
       "4                           Allen, Mr. William Henry    1  35.0      0      0   \n",
       "\n",
       "             Ticket     Fare Cabin Embarked  \n",
       "0         A/5 21171   7.2500   NaN        S  \n",
       "1          PC 17599  71.2833   C85        C  \n",
       "2  STON/O2. 3101282   7.9250   NaN        S  \n",
       "3            113803  53.1000  C123        S  \n",
       "4            373450   8.0500   NaN        S  "
      ]
     },
     "execution_count": 16,
     "metadata": {},
     "output_type": "execute_result"
    }
   ],
   "source": [
    "from sklearn.preprocessing import LabelEncoder\n",
    "labelencoder = LabelEncoder()\n",
    "\n",
    "for column_name in data.columns:\n",
    "    if column_name in categorical_data:\n",
    "        data[column_name] = labelencoder.fit_transform(data[column_name])\n",
    "        print(labelencoder.classes_)\n",
    "\n",
    "data.head()"
   ]
  },
  {
   "cell_type": "code",
   "execution_count": 17,
   "id": "9f8adac4",
   "metadata": {
    "execution": {
     "iopub.execute_input": "2024-07-31T09:38:58.313107Z",
     "iopub.status.busy": "2024-07-31T09:38:58.312708Z",
     "iopub.status.idle": "2024-07-31T09:38:58.319497Z",
     "shell.execute_reply": "2024-07-31T09:38:58.318379Z"
    },
    "papermill": {
     "duration": 0.021067,
     "end_time": "2024-07-31T09:38:58.322013",
     "exception": false,
     "start_time": "2024-07-31T09:38:58.300946",
     "status": "completed"
    },
    "tags": []
   },
   "outputs": [],
   "source": [
    "data = data.drop(labels = ['Cabin', 'Embarked', 'Ticket', 'Name'], axis = 1)"
   ]
  },
  {
   "cell_type": "code",
   "execution_count": 18,
   "id": "edaef04a",
   "metadata": {
    "execution": {
     "iopub.execute_input": "2024-07-31T09:38:58.344379Z",
     "iopub.status.busy": "2024-07-31T09:38:58.343999Z",
     "iopub.status.idle": "2024-07-31T09:38:59.202163Z",
     "shell.execute_reply": "2024-07-31T09:38:59.200844Z"
    },
    "papermill": {
     "duration": 0.872239,
     "end_time": "2024-07-31T09:38:59.204789",
     "exception": false,
     "start_time": "2024-07-31T09:38:58.332550",
     "status": "completed"
    },
    "tags": []
   },
   "outputs": [
    {
     "name": "stderr",
     "output_type": "stream",
     "text": [
      "/opt/conda/lib/python3.10/site-packages/seaborn/_oldcore.py:1119: FutureWarning: use_inf_as_na option is deprecated and will be removed in a future version. Convert inf values to NaN before operating instead.\n",
      "  with pd.option_context('mode.use_inf_as_na', True):\n",
      "/opt/conda/lib/python3.10/site-packages/seaborn/_oldcore.py:1075: FutureWarning: When grouping with a length-1 list-like, you will need to pass a length-1 tuple to get_group in a future version of pandas. Pass `(name,)` instead of `name` to silence this warning.\n",
      "  data_subset = grouped_data.get_group(pd_key)\n",
      "/opt/conda/lib/python3.10/site-packages/seaborn/_oldcore.py:1119: FutureWarning: use_inf_as_na option is deprecated and will be removed in a future version. Convert inf values to NaN before operating instead.\n",
      "  with pd.option_context('mode.use_inf_as_na', True):\n",
      "/opt/conda/lib/python3.10/site-packages/seaborn/_oldcore.py:1075: FutureWarning: When grouping with a length-1 list-like, you will need to pass a length-1 tuple to get_group in a future version of pandas. Pass `(name,)` instead of `name` to silence this warning.\n",
      "  data_subset = grouped_data.get_group(pd_key)\n"
     ]
    },
    {
     "data": {
      "text/plain": [
       "<seaborn.axisgrid.JointGrid at 0x7d16811722c0>"
      ]
     },
     "execution_count": 18,
     "metadata": {},
     "output_type": "execute_result"
    },
    {
     "data": {
      "image/png": "[encoded data removed]",
      "text/plain": [
       "<Figure size 600x600 with 3 Axes>"
      ]
     },
     "metadata": {},
     "output_type": "display_data"
    }
   ],
   "source": [
    "#plt.figure(figsize=(5,4))\n",
    "sns.jointplot(x=\"Fare\", y='Age',hue = 'Sex', data = data, kind = 'scatter')"
   ]
  },
  {
   "cell_type": "code",
   "execution_count": 19,
   "id": "d003d094",
   "metadata": {
    "execution": {
     "iopub.execute_input": "2024-07-31T09:38:59.229384Z",
     "iopub.status.busy": "2024-07-31T09:38:59.228992Z",
     "iopub.status.idle": "2024-07-31T09:38:59.245813Z",
     "shell.execute_reply": "2024-07-31T09:38:59.244489Z"
    },
    "papermill": {
     "duration": 0.032079,
     "end_time": "2024-07-31T09:38:59.248372",
     "exception": false,
     "start_time": "2024-07-31T09:38:59.216293",
     "status": "completed"
    },
    "tags": []
   },
   "outputs": [
    {
     "name": "stdout",
     "output_type": "stream",
     "text": [
      "Критерий значимости = 0.000\n",
      "Действительно разный тариф, мужчины  25.523893414211443 , женщины  44.47981783439491\n"
     ]
    }
   ],
   "source": [
    "# судя по гистограмме, тарифв для женщин выше и путешествие им обходилось дороже (проверю по критерию Манни-Уитни)\n",
    "\n",
    "from scipy.stats import mannwhitneyu \n",
    "\n",
    "men = data[data.Sex == 1] \n",
    "women = data[data.Sex == 0]\n",
    "\n",
    "stat, p = mannwhitneyu(men.Fare, women.Fare)\n",
    "print('Критерий значимости = %.3f' % (p))\n",
    "alpha = 0.1\n",
    "if p > alpha:\n",
    "  print('Возраст не отличался')\n",
    "else: \n",
    "  print('Действительно разный тариф, мужчины ',\n",
    "        men.Fare.mean(),', женщины ', women.Fare.mean())"
   ]
  },
  {
   "cell_type": "code",
   "execution_count": 20,
   "id": "a1b6ffaa",
   "metadata": {
    "execution": {
     "iopub.execute_input": "2024-07-31T09:38:59.273770Z",
     "iopub.status.busy": "2024-07-31T09:38:59.273346Z",
     "iopub.status.idle": "2024-07-31T09:38:59.301216Z",
     "shell.execute_reply": "2024-07-31T09:38:59.299697Z"
    },
    "papermill": {
     "duration": 0.043351,
     "end_time": "2024-07-31T09:38:59.303769",
     "exception": false,
     "start_time": "2024-07-31T09:38:59.260418",
     "status": "completed"
    },
    "tags": []
   },
   "outputs": [
    {
     "name": "stdout",
     "output_type": "stream",
     "text": [
      "Процент мужчин и женщин в каждом классе:\n",
      "Pclass          1          2          3\n",
      "Sex                                    \n",
      "0       29.936306  24.203822  45.859873\n",
      "1       21.143847  18.717504  60.138648\n"
     ]
    }
   ],
   "source": [
    "# может быть они просто чаще были в первом классе?\n",
    "\n",
    "crosstab = pd.crosstab(data['Sex'], data['Pclass'])\n",
    "\n",
    "percentage_by_class = crosstab.div(crosstab.sum(axis=1), axis=0) * 100\n",
    "\n",
    "print(\"Процент мужчин и женщин в каждом классе:\")\n",
    "print(percentage_by_class)"
   ]
  },
  {
   "cell_type": "code",
   "execution_count": 21,
   "id": "93f3e173",
   "metadata": {
    "execution": {
     "iopub.execute_input": "2024-07-31T09:38:59.329662Z",
     "iopub.status.busy": "2024-07-31T09:38:59.329257Z",
     "iopub.status.idle": "2024-07-31T09:38:59.336198Z",
     "shell.execute_reply": "2024-07-31T09:38:59.335104Z"
    },
    "papermill": {
     "duration": 0.023003,
     "end_time": "2024-07-31T09:38:59.338679",
     "exception": false,
     "start_time": "2024-07-31T09:38:59.315676",
     "status": "completed"
    },
    "tags": []
   },
   "outputs": [
    {
     "data": {
      "text/plain": [
       "'0       29.936306  24.203822  45.859873\\n1       21.143847  18.717504  60.138648\\n\\n=> женщины чаще выбирали первый класс'"
      ]
     },
     "execution_count": 21,
     "metadata": {},
     "output_type": "execute_result"
    }
   ],
   "source": [
    "'''0       29.936306  24.203822  45.859873\n",
    "1       21.143847  18.717504  60.138648\n",
    "\n",
    "=> женщины чаще выбирали первый класс'''"
   ]
  },
  {
   "cell_type": "code",
   "execution_count": 22,
   "id": "ee43758e",
   "metadata": {
    "execution": {
     "iopub.execute_input": "2024-07-31T09:38:59.364411Z",
     "iopub.status.busy": "2024-07-31T09:38:59.363990Z",
     "iopub.status.idle": "2024-07-31T09:38:59.977987Z",
     "shell.execute_reply": "2024-07-31T09:38:59.976866Z"
    },
    "papermill": {
     "duration": 0.629878,
     "end_time": "2024-07-31T09:38:59.980625",
     "exception": false,
     "start_time": "2024-07-31T09:38:59.350747",
     "status": "completed"
    },
    "tags": []
   },
   "outputs": [
    {
     "name": "stderr",
     "output_type": "stream",
     "text": [
      "/tmp/ipykernel_18/894847595.py:2: UserWarning: \n",
      "\n",
      "`distplot` is a deprecated function and will be removed in seaborn v0.14.0.\n",
      "\n",
      "Please adapt your code to use either `displot` (a figure-level function with\n",
      "similar flexibility) or `histplot` (an axes-level function for histograms).\n",
      "\n",
      "For a guide to updating your code to use the new functions, please see\n",
      "https://gist.github.com/mwaskom/de44147ed2974457ad6372750bbe5751\n",
      "\n",
      "  sns.distplot(data['Age'], ax = axes[0] )\n",
      "/opt/conda/lib/python3.10/site-packages/seaborn/_oldcore.py:1119: FutureWarning: use_inf_as_na option is deprecated and will be removed in a future version. Convert inf values to NaN before operating instead.\n",
      "  with pd.option_context('mode.use_inf_as_na', True):\n",
      "/tmp/ipykernel_18/894847595.py:3: UserWarning: \n",
      "\n",
      "`distplot` is a deprecated function and will be removed in seaborn v0.14.0.\n",
      "\n",
      "Please adapt your code to use either `displot` (a figure-level function with\n",
      "similar flexibility) or `histplot` (an axes-level function for histograms).\n",
      "\n",
      "For a guide to updating your code to use the new functions, please see\n",
      "https://gist.github.com/mwaskom/de44147ed2974457ad6372750bbe5751\n",
      "\n",
      "  sns.distplot(data['Fare'], ax = axes[1] )\n",
      "/opt/conda/lib/python3.10/site-packages/seaborn/_oldcore.py:1119: FutureWarning: use_inf_as_na option is deprecated and will be removed in a future version. Convert inf values to NaN before operating instead.\n",
      "  with pd.option_context('mode.use_inf_as_na', True):\n"
     ]
    },
    {
     "data": {
      "text/plain": [
       "<Axes: xlabel='Fare', ylabel='Density'>"
      ]
     },
     "execution_count": 22,
     "metadata": {},
     "output_type": "execute_result"
    },
    {
     "data": {
      "image/png": "[encoded data removed]",
      "text/plain": [
       "<Figure size 1000x400 with 2 Axes>"
      ]
     },
     "metadata": {},
     "output_type": "display_data"
    }
   ],
   "source": [
    "_, axes = plt.subplots(1, 2, sharey=True, figsize=(10, 4))\n",
    "sns.distplot(data['Age'], ax = axes[0] )\n",
    "sns.distplot(data['Fare'], ax = axes[1] )\n",
    "\n",
    "#data['Cabin'].plot(kind = 'density', ax = axes[0,1])"
   ]
  },
  {
   "cell_type": "code",
   "execution_count": 23,
   "id": "0d3e04aa",
   "metadata": {
    "execution": {
     "iopub.execute_input": "2024-07-31T09:39:00.007598Z",
     "iopub.status.busy": "2024-07-31T09:39:00.007180Z",
     "iopub.status.idle": "2024-07-31T09:39:00.022779Z",
     "shell.execute_reply": "2024-07-31T09:39:00.021720Z"
    },
    "papermill": {
     "duration": 0.031852,
     "end_time": "2024-07-31T09:39:00.025280",
     "exception": false,
     "start_time": "2024-07-31T09:38:59.993428",
     "status": "completed"
    },
    "tags": []
   },
   "outputs": [
    {
     "data": {
      "text/html": [
       "<div>\n",
       "<style scoped>\n",
       "    .dataframe tbody tr th:only-of-type {\n",
       "        vertical-align: middle;\n",
       "    }\n",
       "\n",
       "    .dataframe tbody tr th {\n",
       "        vertical-align: top;\n",
       "    }\n",
       "\n",
       "    .dataframe thead th {\n",
       "        text-align: right;\n",
       "    }\n",
       "</style>\n",
       "<table border=\"1\" class=\"dataframe\">\n",
       "  <thead>\n",
       "    <tr style=\"text-align: right;\">\n",
       "      <th></th>\n",
       "      <th>PassengerId</th>\n",
       "      <th>Survived</th>\n",
       "      <th>Pclass</th>\n",
       "      <th>Sex</th>\n",
       "      <th>Age</th>\n",
       "      <th>SibSp</th>\n",
       "      <th>Parch</th>\n",
       "      <th>Fare</th>\n",
       "    </tr>\n",
       "  </thead>\n",
       "  <tbody>\n",
       "    <tr>\n",
       "      <th>0</th>\n",
       "      <td>1</td>\n",
       "      <td>0</td>\n",
       "      <td>3</td>\n",
       "      <td>1</td>\n",
       "      <td>22.0</td>\n",
       "      <td>1</td>\n",
       "      <td>0</td>\n",
       "      <td>7.2500</td>\n",
       "    </tr>\n",
       "    <tr>\n",
       "      <th>1</th>\n",
       "      <td>2</td>\n",
       "      <td>1</td>\n",
       "      <td>1</td>\n",
       "      <td>0</td>\n",
       "      <td>38.0</td>\n",
       "      <td>1</td>\n",
       "      <td>0</td>\n",
       "      <td>71.2833</td>\n",
       "    </tr>\n",
       "    <tr>\n",
       "      <th>2</th>\n",
       "      <td>3</td>\n",
       "      <td>1</td>\n",
       "      <td>3</td>\n",
       "      <td>0</td>\n",
       "      <td>26.0</td>\n",
       "      <td>0</td>\n",
       "      <td>0</td>\n",
       "      <td>7.9250</td>\n",
       "    </tr>\n",
       "    <tr>\n",
       "      <th>3</th>\n",
       "      <td>4</td>\n",
       "      <td>1</td>\n",
       "      <td>1</td>\n",
       "      <td>0</td>\n",
       "      <td>35.0</td>\n",
       "      <td>1</td>\n",
       "      <td>0</td>\n",
       "      <td>53.1000</td>\n",
       "    </tr>\n",
       "    <tr>\n",
       "      <th>4</th>\n",
       "      <td>5</td>\n",
       "      <td>0</td>\n",
       "      <td>3</td>\n",
       "      <td>1</td>\n",
       "      <td>35.0</td>\n",
       "      <td>0</td>\n",
       "      <td>0</td>\n",
       "      <td>8.0500</td>\n",
       "    </tr>\n",
       "    <tr>\n",
       "      <th>...</th>\n",
       "      <td>...</td>\n",
       "      <td>...</td>\n",
       "      <td>...</td>\n",
       "      <td>...</td>\n",
       "      <td>...</td>\n",
       "      <td>...</td>\n",
       "      <td>...</td>\n",
       "      <td>...</td>\n",
       "    </tr>\n",
       "    <tr>\n",
       "      <th>886</th>\n",
       "      <td>887</td>\n",
       "      <td>0</td>\n",
       "      <td>2</td>\n",
       "      <td>1</td>\n",
       "      <td>27.0</td>\n",
       "      <td>0</td>\n",
       "      <td>0</td>\n",
       "      <td>13.0000</td>\n",
       "    </tr>\n",
       "    <tr>\n",
       "      <th>887</th>\n",
       "      <td>888</td>\n",
       "      <td>1</td>\n",
       "      <td>1</td>\n",
       "      <td>0</td>\n",
       "      <td>19.0</td>\n",
       "      <td>0</td>\n",
       "      <td>0</td>\n",
       "      <td>30.0000</td>\n",
       "    </tr>\n",
       "    <tr>\n",
       "      <th>888</th>\n",
       "      <td>889</td>\n",
       "      <td>0</td>\n",
       "      <td>3</td>\n",
       "      <td>0</td>\n",
       "      <td>NaN</td>\n",
       "      <td>1</td>\n",
       "      <td>2</td>\n",
       "      <td>23.4500</td>\n",
       "    </tr>\n",
       "    <tr>\n",
       "      <th>889</th>\n",
       "      <td>890</td>\n",
       "      <td>1</td>\n",
       "      <td>1</td>\n",
       "      <td>1</td>\n",
       "      <td>26.0</td>\n",
       "      <td>0</td>\n",
       "      <td>0</td>\n",
       "      <td>30.0000</td>\n",
       "    </tr>\n",
       "    <tr>\n",
       "      <th>890</th>\n",
       "      <td>891</td>\n",
       "      <td>0</td>\n",
       "      <td>3</td>\n",
       "      <td>1</td>\n",
       "      <td>32.0</td>\n",
       "      <td>0</td>\n",
       "      <td>0</td>\n",
       "      <td>7.7500</td>\n",
       "    </tr>\n",
       "  </tbody>\n",
       "</table>\n",
       "<p>891 rows × 8 columns</p>\n",
       "</div>"
      ],
      "text/plain": [
       "     PassengerId  Survived  Pclass  Sex   Age  SibSp  Parch     Fare\n",
       "0              1         0       3    1  22.0      1      0   7.2500\n",
       "1              2         1       1    0  38.0      1      0  71.2833\n",
       "2              3         1       3    0  26.0      0      0   7.9250\n",
       "3              4         1       1    0  35.0      1      0  53.1000\n",
       "4              5         0       3    1  35.0      0      0   8.0500\n",
       "..           ...       ...     ...  ...   ...    ...    ...      ...\n",
       "886          887         0       2    1  27.0      0      0  13.0000\n",
       "887          888         1       1    0  19.0      0      0  30.0000\n",
       "888          889         0       3    0   NaN      1      2  23.4500\n",
       "889          890         1       1    1  26.0      0      0  30.0000\n",
       "890          891         0       3    1  32.0      0      0   7.7500\n",
       "\n",
       "[891 rows x 8 columns]"
      ]
     },
     "execution_count": 23,
     "metadata": {},
     "output_type": "execute_result"
    }
   ],
   "source": [
    "data"
   ]
  },
  {
   "cell_type": "code",
   "execution_count": 24,
   "id": "16f0b00a",
   "metadata": {
    "execution": {
     "iopub.execute_input": "2024-07-31T09:39:00.053860Z",
     "iopub.status.busy": "2024-07-31T09:39:00.053447Z",
     "iopub.status.idle": "2024-07-31T09:39:00.644197Z",
     "shell.execute_reply": "2024-07-31T09:39:00.643017Z"
    },
    "papermill": {
     "duration": 0.608469,
     "end_time": "2024-07-31T09:39:00.647269",
     "exception": false,
     "start_time": "2024-07-31T09:39:00.038800",
     "status": "completed"
    },
    "tags": []
   },
   "outputs": [
    {
     "data": {
      "image/png": "[encoded data removed]",
      "text/plain": [
       "<Figure size 600x300 with 2 Axes>"
      ]
     },
     "metadata": {},
     "output_type": "display_data"
    }
   ],
   "source": [
    "import numpy as np\n",
    "import matplotlib.pyplot as plt\n",
    "import seaborn as sns\n",
    "\n",
    "\n",
    "#features = ['Sex', 'Cabin', 'Embarked']\n",
    "#data[features].hist(figsize=(15, 5))\n",
    "numerical = list(set(data.columns))\n",
    "corr_matrix = data[numerical].corr()\n",
    "\n",
    "# Визуализация тепловой карты с корреляцией\n",
    "plt.figure(figsize=(6, 3))\n",
    "sns.heatmap(corr_matrix, annot=True, cmap='coolwarm', fmt=\".2f\")\n",
    "plt.title('')\n",
    "plt.show()"
   ]
  },
  {
   "cell_type": "code",
   "execution_count": 25,
   "id": "25a3ac97",
   "metadata": {
    "execution": {
     "iopub.execute_input": "2024-07-31T09:39:00.677942Z",
     "iopub.status.busy": "2024-07-31T09:39:00.677543Z",
     "iopub.status.idle": "2024-07-31T09:39:00.684783Z",
     "shell.execute_reply": "2024-07-31T09:39:00.683675Z"
    },
    "papermill": {
     "duration": 0.024836,
     "end_time": "2024-07-31T09:39:00.686899",
     "exception": false,
     "start_time": "2024-07-31T09:39:00.662063",
     "status": "completed"
    },
    "tags": []
   },
   "outputs": [
    {
     "data": {
      "text/plain": [
       "'максимальная связь с тарифом, пол и классом'"
      ]
     },
     "execution_count": 25,
     "metadata": {},
     "output_type": "execute_result"
    }
   ],
   "source": [
    "'''максимальная связь с тарифом, пол и классом'''"
   ]
  },
  {
   "cell_type": "code",
   "execution_count": 26,
   "id": "7dfa05e6",
   "metadata": {
    "execution": {
     "iopub.execute_input": "2024-07-31T09:39:00.717219Z",
     "iopub.status.busy": "2024-07-31T09:39:00.716828Z",
     "iopub.status.idle": "2024-07-31T09:39:00.803874Z",
     "shell.execute_reply": "2024-07-31T09:39:00.802149Z"
    },
    "papermill": {
     "duration": 0.105385,
     "end_time": "2024-07-31T09:39:00.806559",
     "exception": false,
     "start_time": "2024-07-31T09:39:00.701174",
     "status": "completed"
    },
    "tags": []
   },
   "outputs": [
    {
     "name": "stdout",
     "output_type": "stream",
     "text": [
      "Pclass           1         2         3\n",
      "Survived                              \n",
      "0         0.089787  0.108866  0.417508\n",
      "1         0.152637  0.097643  0.133558 \n",
      "\n",
      "\n",
      "\n",
      "Sex              0         1\n",
      "Survived                    \n",
      "0         0.090909  0.525253\n",
      "1         0.261504  0.122334 \n",
      "\n",
      "\n",
      "\n",
      "Age          0.42      0.67      0.75      0.83      0.92      1.00   \\\n",
      "Survived                                                               \n",
      "0         0.000000  0.000000  0.000000  0.000000  0.000000  0.002801   \n",
      "1         0.001401  0.001401  0.002801  0.002801  0.001401  0.007003   \n",
      "\n",
      "Age          2.00      3.00      4.00      5.00   ...     62.00     63.00  \\\n",
      "Survived                                          ...                       \n",
      "0         0.009804  0.001401  0.004202  0.000000  ...  0.002801  0.000000   \n",
      "1         0.004202  0.007003  0.009804  0.005602  ...  0.002801  0.002801   \n",
      "\n",
      "Age          64.00     65.00     66.00     70.00     70.50     71.00  \\\n",
      "Survived                                                               \n",
      "0         0.002801  0.004202  0.001401  0.002801  0.001401  0.002801   \n",
      "1         0.000000  0.000000  0.000000  0.000000  0.000000  0.000000   \n",
      "\n",
      "Age          74.00     80.00  \n",
      "Survived                      \n",
      "0         0.001401  0.000000  \n",
      "1         0.000000  0.001401  \n",
      "\n",
      "[2 rows x 88 columns] \n",
      "\n",
      "\n",
      "\n",
      "SibSp            0         1         2         3         4         5         8\n",
      "Survived                                                                      \n",
      "0         0.446689  0.108866  0.016835  0.013468  0.016835  0.005612  0.007856\n",
      "1         0.235690  0.125701  0.014590  0.004489  0.003367  0.000000  0.000000 \n",
      "\n",
      "\n",
      "\n",
      "Parch            0         1         2         3         4         5         6\n",
      "Survived                                                                      \n",
      "0         0.499439  0.059484  0.044893  0.002245  0.004489  0.004489  0.001122\n",
      "1         0.261504  0.072952  0.044893  0.003367  0.000000  0.001122  0.000000 \n",
      "\n",
      "\n",
      "\n",
      "Fare      0.0000    4.0125    5.0000    6.2375    6.4375    6.4500    \\\n",
      "Survived                                                               \n",
      "0         0.015713  0.001122  0.001122  0.001122  0.001122  0.001122   \n",
      "1         0.001122  0.000000  0.000000  0.000000  0.000000  0.000000   \n",
      "\n",
      "Fare      6.4958    6.7500    6.8583    6.9500    ...  153.4625  164.8667  \\\n",
      "Survived                                          ...                       \n",
      "0         0.002245  0.002245  0.001122  0.001122  ...  0.001122  0.000000   \n",
      "1         0.000000  0.000000  0.000000  0.000000  ...  0.002245  0.002245   \n",
      "\n",
      "Fare      211.3375  211.5000  221.7792  227.5250  247.5208  262.3750  \\\n",
      "Survived                                                               \n",
      "0         0.000000  0.001122  0.001122  0.001122  0.001122  0.000000   \n",
      "1         0.003367  0.000000  0.000000  0.003367  0.001122  0.002245   \n",
      "\n",
      "Fare      263.0000  512.3292  \n",
      "Survived                      \n",
      "0         0.002245  0.000000  \n",
      "1         0.002245  0.003367  \n",
      "\n",
      "[2 rows x 248 columns] \n",
      "\n",
      "\n",
      "\n"
     ]
    }
   ],
   "source": [
    "for column_name in data.columns:\n",
    "    if column_name != 'PassengerId' and column_name!= 'Survived':\n",
    "        print(pd.crosstab(data['Survived'], data[column_name], normalize = True), '\\n\\n\\n')\n",
    "        "
   ]
  },
  {
   "cell_type": "code",
   "execution_count": 27,
   "id": "d9688d0b",
   "metadata": {
    "execution": {
     "iopub.execute_input": "2024-07-31T09:39:00.837626Z",
     "iopub.status.busy": "2024-07-31T09:39:00.837193Z",
     "iopub.status.idle": "2024-07-31T09:39:00.849553Z",
     "shell.execute_reply": "2024-07-31T09:39:00.848357Z"
    },
    "papermill": {
     "duration": 0.030513,
     "end_time": "2024-07-31T09:39:00.851950",
     "exception": false,
     "start_time": "2024-07-31T09:39:00.821437",
     "status": "completed"
    },
    "tags": []
   },
   "outputs": [
    {
     "data": {
      "text/plain": [
       "count    891.000000\n",
       "mean      29.699118\n",
       "std       13.002015\n",
       "min        0.420000\n",
       "25%       22.000000\n",
       "50%       29.699118\n",
       "75%       35.000000\n",
       "max       80.000000\n",
       "Name: Age, dtype: float64"
      ]
     },
     "execution_count": 27,
     "metadata": {},
     "output_type": "execute_result"
    }
   ],
   "source": [
    "data.Age = data.Age.fillna(data.Age.mean())\n",
    "data.Age.describe()"
   ]
  },
  {
   "cell_type": "code",
   "execution_count": 28,
   "id": "371dae85",
   "metadata": {
    "execution": {
     "iopub.execute_input": "2024-07-31T09:39:00.883461Z",
     "iopub.status.busy": "2024-07-31T09:39:00.883058Z",
     "iopub.status.idle": "2024-07-31T09:39:00.889404Z",
     "shell.execute_reply": "2024-07-31T09:39:00.888304Z"
    },
    "papermill": {
     "duration": 0.025054,
     "end_time": "2024-07-31T09:39:00.891755",
     "exception": false,
     "start_time": "2024-07-31T09:39:00.866701",
     "status": "completed"
    },
    "tags": []
   },
   "outputs": [],
   "source": [
    "y = data['Survived']\n",
    "data = data.drop(labels = ['Survived'], axis = 1)"
   ]
  },
  {
   "cell_type": "code",
   "execution_count": 29,
   "id": "828f81f4",
   "metadata": {
    "execution": {
     "iopub.execute_input": "2024-07-31T09:39:00.922884Z",
     "iopub.status.busy": "2024-07-31T09:39:00.922444Z",
     "iopub.status.idle": "2024-07-31T09:39:00.932020Z",
     "shell.execute_reply": "2024-07-31T09:39:00.930791Z"
    },
    "papermill": {
     "duration": 0.028143,
     "end_time": "2024-07-31T09:39:00.934569",
     "exception": false,
     "start_time": "2024-07-31T09:39:00.906426",
     "status": "completed"
    },
    "tags": []
   },
   "outputs": [],
   "source": [
    "X_train, X_test, y_train, y_test = train_test_split(data, y, test_size=0.5, random_state=42)\n",
    "\n"
   ]
  },
  {
   "cell_type": "code",
   "execution_count": 30,
   "id": "645f33ee",
   "metadata": {
    "execution": {
     "iopub.execute_input": "2024-07-31T09:39:00.966733Z",
     "iopub.status.busy": "2024-07-31T09:39:00.966206Z",
     "iopub.status.idle": "2024-07-31T09:39:01.278222Z",
     "shell.execute_reply": "2024-07-31T09:39:01.276760Z"
    },
    "papermill": {
     "duration": 0.331515,
     "end_time": "2024-07-31T09:39:01.280998",
     "exception": false,
     "start_time": "2024-07-31T09:39:00.949483",
     "status": "completed"
    },
    "tags": []
   },
   "outputs": [
    {
     "name": "stdout",
     "output_type": "stream",
     "text": [
      "Fitting 5 folds for each of 9 candidates, totalling 45 fits\n",
      "Best parametrs:  {'max_depth': 3}\n",
      "Best score:  0.8202247191011237\n"
     ]
    }
   ],
   "source": [
    "tree_params = {'max_depth': range(2,11)}\n",
    "\n",
    "locally_best_tree = GridSearchCV(DecisionTreeClassifier( random_state=17), tree_params, cv=5, verbose = True) # you code here                     \n",
    "\n",
    "locally_best_tree.fit(X_train, y_train)\n",
    "\n",
    "print('Best parametrs: ', locally_best_tree.best_params_)\n",
    "print('Best score: ', locally_best_tree.best_score_)"
   ]
  },
  {
   "cell_type": "code",
   "execution_count": 31,
   "id": "14ec75cf",
   "metadata": {
    "execution": {
     "iopub.execute_input": "2024-07-31T09:39:01.312730Z",
     "iopub.status.busy": "2024-07-31T09:39:01.312278Z",
     "iopub.status.idle": "2024-07-31T09:39:01.331835Z",
     "shell.execute_reply": "2024-07-31T09:39:01.330597Z"
    },
    "papermill": {
     "duration": 0.038415,
     "end_time": "2024-07-31T09:39:01.334342",
     "exception": false,
     "start_time": "2024-07-31T09:39:01.295927",
     "status": "completed"
    },
    "tags": []
   },
   "outputs": [
    {
     "data": {
      "text/html": [
       "<style>#sk-container-id-1 {color: black;background-color: white;}#sk-container-id-1 pre{padding: 0;}#sk-container-id-1 div.sk-toggleable {background-color: white;}#sk-container-id-1 label.sk-toggleable__label {cursor: pointer;display: block;width: 100%;margin-bottom: 0;padding: 0.3em;box-sizing: border-box;text-align: center;}#sk-container-id-1 label.sk-toggleable__label-arrow:before {content: \"▸\";float: left;margin-right: 0.25em;color: #696969;}#sk-container-id-1 label.sk-toggleable__label-arrow:hover:before {color: black;}#sk-container-id-1 div.sk-estimator:hover label.sk-toggleable__label-arrow:before {color: black;}#sk-container-id-1 div.sk-toggleable__content {max-height: 0;max-width: 0;overflow: hidden;text-align: left;background-color: #f0f8ff;}#sk-container-id-1 div.sk-toggleable__content pre {margin: 0.2em;color: black;border-radius: 0.25em;background-color: #f0f8ff;}#sk-container-id-1 input.sk-toggleable__control:checked~div.sk-toggleable__content {max-height: 200px;max-width: 100%;overflow: auto;}#sk-container-id-1 input.sk-toggleable__control:checked~label.sk-toggleable__label-arrow:before {content: \"▾\";}#sk-container-id-1 div.sk-estimator input.sk-toggleable__control:checked~label.sk-toggleable__label {background-color: #d4ebff;}#sk-container-id-1 div.sk-label input.sk-toggleable__control:checked~label.sk-toggleable__label {background-color: #d4ebff;}#sk-container-id-1 input.sk-hidden--visually {border: 0;clip: rect(1px 1px 1px 1px);clip: rect(1px, 1px, 1px, 1px);height: 1px;margin: -1px;overflow: hidden;padding: 0;position: absolute;width: 1px;}#sk-container-id-1 div.sk-estimator {font-family: monospace;background-color: #f0f8ff;border: 1px dotted black;border-radius: 0.25em;box-sizing: border-box;margin-bottom: 0.5em;}#sk-container-id-1 div.sk-estimator:hover {background-color: #d4ebff;}#sk-container-id-1 div.sk-parallel-item::after {content: \"\";width: 100%;border-bottom: 1px solid gray;flex-grow: 1;}#sk-container-id-1 div.sk-label:hover label.sk-toggleable__label {background-color: #d4ebff;}#sk-container-id-1 div.sk-serial::before {content: \"\";position: absolute;border-left: 1px solid gray;box-sizing: border-box;top: 0;bottom: 0;left: 50%;z-index: 0;}#sk-container-id-1 div.sk-serial {display: flex;flex-direction: column;align-items: center;background-color: white;padding-right: 0.2em;padding-left: 0.2em;position: relative;}#sk-container-id-1 div.sk-item {position: relative;z-index: 1;}#sk-container-id-1 div.sk-parallel {display: flex;align-items: stretch;justify-content: center;background-color: white;position: relative;}#sk-container-id-1 div.sk-item::before, #sk-container-id-1 div.sk-parallel-item::before {content: \"\";position: absolute;border-left: 1px solid gray;box-sizing: border-box;top: 0;bottom: 0;left: 50%;z-index: -1;}#sk-container-id-1 div.sk-parallel-item {display: flex;flex-direction: column;z-index: 1;position: relative;background-color: white;}#sk-container-id-1 div.sk-parallel-item:first-child::after {align-self: flex-end;width: 50%;}#sk-container-id-1 div.sk-parallel-item:last-child::after {align-self: flex-start;width: 50%;}#sk-container-id-1 div.sk-parallel-item:only-child::after {width: 0;}#sk-container-id-1 div.sk-dashed-wrapped {border: 1px dashed gray;margin: 0 0.4em 0.5em 0.4em;box-sizing: border-box;padding-bottom: 0.4em;background-color: white;}#sk-container-id-1 div.sk-label label {font-family: monospace;font-weight: bold;display: inline-block;line-height: 1.2em;}#sk-container-id-1 div.sk-label-container {text-align: center;}#sk-container-id-1 div.sk-container {/* jupyter's `normalize.less` sets `[hidden] { display: none; }` but bootstrap.min.css set `[hidden] { display: none !important; }` so we also need the `!important` here to be able to override the default hidden behavior on the sphinx rendered scikit-learn.org. See: https://github.com/scikit-learn/scikit-learn/issues/21755 */display: inline-block !important;position: relative;}#sk-container-id-1 div.sk-text-repr-fallback {display: none;}</style><div id=\"sk-container-id-1\" class=\"sk-top-container\"><div class=\"sk-text-repr-fallback\"><pre>KNeighborsClassifier(n_neighbors=10)</pre><b>In a Jupyter environment, please rerun this cell to show the HTML representation or trust the notebook. <br />On GitHub, the HTML representation is unable to render, please try loading this page with nbviewer.org.</b></div><div class=\"sk-container\" hidden><div class=\"sk-item\"><div class=\"sk-estimator sk-toggleable\"><input class=\"sk-toggleable__control sk-hidden--visually\" id=\"sk-estimator-id-1\" type=\"checkbox\" checked><label for=\"sk-estimator-id-1\" class=\"sk-toggleable__label sk-toggleable__label-arrow\">KNeighborsClassifier</label><div class=\"sk-toggleable__content\"><pre>KNeighborsClassifier(n_neighbors=10)</pre></div></div></div></div></div>"
      ],
      "text/plain": [
       "KNeighborsClassifier(n_neighbors=10)"
      ]
     },
     "execution_count": 31,
     "metadata": {},
     "output_type": "execute_result"
    }
   ],
   "source": [
    "from sklearn.neighbors import KNeighborsClassifier\n",
    "from sklearn.preprocessing import StandardScaler\n",
    "knn = KNeighborsClassifier(n_neighbors=10)\n",
    "\n",
    "scaler = StandardScaler()\n",
    "X_train_scaled = scaler.fit_transform(X_train)\n",
    "X_holdout_scaled = scaler.transform(X_test)\n",
    "knn.fit(X_train_scaled, y_train)"
   ]
  },
  {
   "cell_type": "code",
   "execution_count": 32,
   "id": "6a2af7fd",
   "metadata": {
    "execution": {
     "iopub.execute_input": "2024-07-31T09:39:01.367217Z",
     "iopub.status.busy": "2024-07-31T09:39:01.366109Z",
     "iopub.status.idle": "2024-07-31T09:39:01.400776Z",
     "shell.execute_reply": "2024-07-31T09:39:01.399680Z"
    },
    "papermill": {
     "duration": 0.05377,
     "end_time": "2024-07-31T09:39:01.403088",
     "exception": false,
     "start_time": "2024-07-31T09:39:01.349318",
     "status": "completed"
    },
    "tags": []
   },
   "outputs": [
    {
     "data": {
      "text/plain": [
       "0.8071748878923767"
      ]
     },
     "execution_count": 32,
     "metadata": {},
     "output_type": "execute_result"
    }
   ],
   "source": [
    "knn_pred = knn.predict(X_holdout_scaled)\n",
    "accuracy_score(y_test, knn_pred)"
   ]
  }
 ],
 "metadata": {
  "kaggle": {
   "accelerator": "none",
   "dataSources": [
    {
     "databundleVersionId": 26502,
     "sourceId": 3136,
     "sourceType": "competition"
    },
    {
     "datasetId": 5449084,
     "sourceId": 9039013,
     "sourceType": "datasetVersion"
    }
   ],
   "dockerImageVersionId": 30746,
   "isGpuEnabled": false,
   "isInternetEnabled": false,
   "language": "python",
   "sourceType": "notebook"
  },
  "kernelspec": {
   "display_name": "Python 3",
   "language": "python",
   "name": "python3"
  },
  "language_info": {
   "codemirror_mode": {
    "name": "ipython",
    "version": 3
   },
   "file_extension": ".py",
   "mimetype": "text/x-python",
   "name": "python",
   "nbconvert_exporter": "python",
   "pygments_lexer": "ipython3",
   "version": "3.10.13"
  },
  "papermill": {
   "default_parameters": {},
   "duration": 13.131961,
   "end_time": "2024-07-31T09:39:02.140541",
   "environment_variables": {},
   "exception": null,
   "input_path": "__notebook__.ipynb",
   "output_path": "__notebook__.ipynb",
   "parameters": {},
   "start_time": "2024-07-31T09:38:49.008580",
   "version": "2.5.0"
  }
 },
 "nbformat": 4,
 "nbformat_minor": 5
}
